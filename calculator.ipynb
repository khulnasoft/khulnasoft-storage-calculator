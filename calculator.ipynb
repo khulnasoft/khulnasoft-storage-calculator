{
 "cells": [
  {
   "cell_type": "markdown",
   "metadata": {},
   "source": [
    "[![Open In Colab](https://colab.research.google.com/assets/colab-badge.svg)](https://colab.research.google.com/github/khulnasoft/khulnasoft-storage-calculator/blob/main/calculator.ipynb)"
   ]
  },
  {
   "cell_type": "code",
   "execution_count": 8,
   "metadata": {},
   "outputs": [],
   "source": [
    "from IPython.display import Markdown as md"
   ]
  },
  {
   "cell_type": "code",
   "execution_count": 9,
   "metadata": {},
   "outputs": [],
   "source": [
    "############################\n",
    "# inputs\n",
    "############################\n",
    "\n",
    "# average_concurrent_metrics\n",
    "average_concurrent_metrics = 2500\n",
    "\n",
    "# maximum_disk_size_mb\n",
    "maximum_disk_size_mb_tier_0 = 1024\n",
    "maximum_disk_size_mb_tier_1 = 384\n",
    "maximum_disk_size_mb_tier_2 = 192\n",
    "\n",
    "# update_every_sec\n",
    "update_every_sec_tier_0 = 1\n",
    "update_every_sec_tier_1 = 60\n",
    "update_every_sec_tier_2 = 3600\n",
    "\n",
    "# page_cache_size_mb\n",
    "page_cache_size_mb_tier_0 = 64\n",
    "page_cache_size_mb_tier_1 = 36\n",
    "page_cache_size_mb_tier_2 = 36"
   ]
  },
  {
   "cell_type": "code",
   "execution_count": 10,
   "metadata": {},
   "outputs": [],
   "source": [
    "############################\n",
    "# constants\n",
    "############################\n",
    "\n",
    "PER_METRIC_BYTES_64BIT = 165\n",
    "PER_PAGE_BYTES_64BIT = 90\n",
    "PER_EXTENT_BYTES_64BIT = 32\n",
    "PER_FILE_BYTES_64BIT = 88\n",
    "CACHE_OVERHEAD_PER_PAGE_BYTES_64BIT = 144\n",
    "DISK_OVERHEAD_PERCENTAGE_64BIT = 0.11\n",
    "TIER_EVERY_ITERATIONS = 60\n",
    "COMPRESSION_DECREASE_PER_TIER = 0.1\n",
    "EPHEMERAL_METRICS_PER_DAY = 0.05\n",
    "BYTES_PER_METRIC_TIER_0 = 4\n",
    "BYTES_PER_METRIC_TIER_1 = 16\n",
    "BYTES_PER_METRIC_TIER_2 = 16\n",
    "PAGE_SIZE_TIER_0 = 16384\n",
    "PAGE_SIZE_TIER_1 = 8192\n",
    "PAGE_SIZE_TIER_2 = 4096\n",
    "PAGES_PER_EXTENT_TIER_0 = 4\n",
    "PAGES_PER_EXTENT_TIER_1 = 8\n",
    "PAGES_PER_EXTENT_TIER_2 = 16\n",
    "COMPRESSION_SAVINGS_TIER_0 = 0.7\n",
    "COMPRESSION_SAVINGS_TIER_1 = 0.7\n",
    "COMPRESSION_SAVINGS_TIER_2 = 0.7"
   ]
  },
  {
   "cell_type": "code",
   "execution_count": 11,
   "metadata": {},
   "outputs": [],
   "source": [
    "############################\n",
    "# calculations\n",
    "############################\n",
    "\n",
    "observed_average_granularity_secs_tier_0 = update_every_sec_tier_0 * 1.2\n",
    "observed_average_granularity_secs_tier_1 = update_every_sec_tier_1 * 1.2\n",
    "observed_average_granularity_secs_tier_2 = update_every_sec_tier_2 * 1.2\n",
    "\n",
    "page_cache_size_in_bytes_tier_0 = page_cache_size_mb_tier_0 * 1024 * 1024\n",
    "page_cache_size_in_bytes_tier_1 = page_cache_size_mb_tier_1 * 1024 * 1024\n",
    "page_cache_size_in_bytes_tier_2 = page_cache_size_mb_tier_2 * 1024 * 1024\n",
    "\n",
    "max_full_pages_in_cache_tier_0 = page_cache_size_in_bytes_tier_0 / PAGE_SIZE_TIER_0\n",
    "max_full_pages_in_cache_tier_1 = page_cache_size_in_bytes_tier_1 / PAGE_SIZE_TIER_1\n",
    "max_full_pages_in_cache_tier_2 = page_cache_size_in_bytes_tier_2 / PAGE_SIZE_TIER_2\n",
    "\n",
    "cache_overhead_in_bytes_tier_0 = max_full_pages_in_cache_tier_0 * CACHE_OVERHEAD_PER_PAGE_BYTES_64BIT\n",
    "cache_overhead_in_bytes_tier_1 = max_full_pages_in_cache_tier_1 * CACHE_OVERHEAD_PER_PAGE_BYTES_64BIT\n",
    "cache_overhead_in_bytes_tier_2 = max_full_pages_in_cache_tier_2 * CACHE_OVERHEAD_PER_PAGE_BYTES_64BIT\n",
    "\n",
    "total_page_cache_bytes_tier_0 = page_cache_size_in_bytes_tier_0 + cache_overhead_in_bytes_tier_0\n",
    "total_page_cache_bytes_tier_1 = page_cache_size_in_bytes_tier_1 + cache_overhead_in_bytes_tier_1\n",
    "total_page_cache_bytes_tier_2 = page_cache_size_in_bytes_tier_2 + cache_overhead_in_bytes_tier_2\n",
    "\n",
    "uncompressed_disk_size_tier_0 = (maximum_disk_size_mb_tier_0 * (1 - DISK_OVERHEAD_PERCENTAGE_64BIT) * 1024 * 1024) / (1 - COMPRESSION_SAVINGS_TIER_0)\n",
    "uncompressed_disk_size_tier_1 = (maximum_disk_size_mb_tier_1 * (1 - DISK_OVERHEAD_PERCENTAGE_64BIT) * 1024 * 1024) / (1 - COMPRESSION_SAVINGS_TIER_1)\n",
    "uncompressed_disk_size_tier_2 = (maximum_disk_size_mb_tier_2 * (1 - DISK_OVERHEAD_PERCENTAGE_64BIT) * 1024 * 1024) / (1 - COMPRESSION_SAVINGS_TIER_2)\n",
    "\n",
    "pages_tier_0 = uncompressed_disk_size_tier_0 / PAGE_SIZE_TIER_0\n",
    "pages_tier_1 = uncompressed_disk_size_tier_1 / PAGE_SIZE_TIER_1\n",
    "pages_tier_2 = uncompressed_disk_size_tier_2 / PAGE_SIZE_TIER_2\n",
    "\n",
    "extents_tier_0 = pages_tier_0 / PAGES_PER_EXTENT_TIER_0\n",
    "extents_tier_1 = pages_tier_1 / PAGES_PER_EXTENT_TIER_1\n",
    "extents_tier_2 = pages_tier_2 / PAGES_PER_EXTENT_TIER_2\n",
    "\n",
    "total_points_in_the_database_tier_0 = uncompressed_disk_size_tier_0 / BYTES_PER_METRIC_TIER_0\n",
    "total_points_in_the_database_tier_1 = uncompressed_disk_size_tier_1 / BYTES_PER_METRIC_TIER_1\n",
    "total_points_in_the_database_tier_2 = uncompressed_disk_size_tier_2 / BYTES_PER_METRIC_TIER_2\n",
    "\n",
    "points_for_a_full_retention_metric_tier_0 = total_points_in_the_database_tier_0 / average_concurrent_metrics\n",
    "points_for_a_full_retention_metric_tier_1 = total_points_in_the_database_tier_1 / average_concurrent_metrics\n",
    "points_for_a_full_retention_metric_tier_2 = total_points_in_the_database_tier_2 / average_concurrent_metrics\n",
    "\n",
    "metric_retention_secs_tier_0 = points_for_a_full_retention_metric_tier_0 * observed_average_granularity_secs_tier_0\n",
    "metric_retention_secs_tier_1 = points_for_a_full_retention_metric_tier_1 * observed_average_granularity_secs_tier_1\n",
    "metric_retention_secs_tier_2 = points_for_a_full_retention_metric_tier_2 * observed_average_granularity_secs_tier_2\n",
    "\n",
    "metric_retention_hours_tier_0 = metric_retention_secs_tier_0 / 60 / 60\n",
    "metric_retention_hours_tier_1 = metric_retention_secs_tier_1 / 60 / 60\n",
    "metric_retention_hours_tier_2 = metric_retention_secs_tier_2 / 60 / 60\n",
    "\n",
    "metric_retention_days_tier_0 = metric_retention_hours_tier_0 / 24\n",
    "metric_retention_days_tier_1 = metric_retention_hours_tier_1 / 24\n",
    "metric_retention_days_tier_2 = metric_retention_hours_tier_2 / 24\n",
    "\n",
    "maximum_number_of_unique_metrics_tier_0 = average_concurrent_metrics + (average_concurrent_metrics * EPHEMERAL_METRICS_PER_DAY * metric_retention_days_tier_0)\n",
    "maximum_number_of_unique_metrics_tier_1 = average_concurrent_metrics + (average_concurrent_metrics * EPHEMERAL_METRICS_PER_DAY * metric_retention_days_tier_1)\n",
    "maximum_number_of_unique_metrics_tier_2 = average_concurrent_metrics + (average_concurrent_metrics * EPHEMERAL_METRICS_PER_DAY * metric_retention_days_tier_2)\n",
    "\n",
    "metrics_structures_bytes_tier_0 = (maximum_number_of_unique_metrics_tier_0 * PER_METRIC_BYTES_64BIT) if maximum_disk_size_mb_tier_0 > 0 else 0\n",
    "metrics_structures_bytes_tier_1 = (maximum_number_of_unique_metrics_tier_1 * PER_METRIC_BYTES_64BIT) if maximum_disk_size_mb_tier_1 > 0 else 0\n",
    "metrics_structures_bytes_tier_2 = (maximum_number_of_unique_metrics_tier_2 * PER_METRIC_BYTES_64BIT) if maximum_disk_size_mb_tier_2 > 0 else 0\n",
    "\n",
    "pages_structures_bytes_tier_0 = pages_tier_0 * PER_PAGE_BYTES_64BIT\n",
    "pages_structures_bytes_tier_1 = pages_tier_1 * PER_PAGE_BYTES_64BIT\n",
    "pages_structures_bytes_tier_2 = pages_tier_2 * PER_PAGE_BYTES_64BIT\n",
    "\n",
    "extents_structures_bytes_tier_0 = extents_tier_0 * PER_EXTENT_BYTES_64BIT\n",
    "extents_structures_bytes_tier_1 = extents_tier_1 * PER_EXTENT_BYTES_64BIT\n",
    "extents_structures_bytes_tier_2 = extents_tier_2 * PER_EXTENT_BYTES_64BIT\n",
    "\n",
    "dbengine_index_memory_mb_tier_0 = (metrics_structures_bytes_tier_0 + pages_structures_bytes_tier_0 + extents_structures_bytes_tier_0) / 1024 / 1024\n",
    "dbengine_index_memory_mb_tier_1 = (metrics_structures_bytes_tier_1 + pages_structures_bytes_tier_1 + extents_structures_bytes_tier_1) / 1024 / 1024\n",
    "dbengine_index_memory_mb_tier_2 = (metrics_structures_bytes_tier_2 + pages_structures_bytes_tier_2 + extents_structures_bytes_tier_2) / 1024 / 1024\n",
    "\n",
    "collectors_memory_mb_tier_0 = (PAGE_SIZE_TIER_0 * average_concurrent_metrics) / 1024 / 1024\n",
    "collectors_memory_mb_tier_1 = (PAGE_SIZE_TIER_1 * average_concurrent_metrics) / 1024 / 1024\n",
    "collectors_memory_mb_tier_2 = (PAGE_SIZE_TIER_2 * average_concurrent_metrics) / 1024 / 1024\n",
    "\n",
    "final_page_cache_size_in_mb_tier_0 = total_page_cache_bytes_tier_0 / 1024 / 1024\n",
    "final_page_cache_size_in_mb_tier_1 = total_page_cache_bytes_tier_1 / 1024 / 1024\n",
    "final_page_cache_size_in_mb_tier_2 = total_page_cache_bytes_tier_2 / 1024 / 1024\n",
    "\n",
    "total_ram_memory_mb_tier_0 = dbengine_index_memory_mb_tier_0 + collectors_memory_mb_tier_0 + final_page_cache_size_in_mb_tier_0\n",
    "total_ram_memory_mb_tier_1 = dbengine_index_memory_mb_tier_1 + collectors_memory_mb_tier_1 + final_page_cache_size_in_mb_tier_1\n",
    "total_ram_memory_mb_tier_2 = dbengine_index_memory_mb_tier_2 + collectors_memory_mb_tier_2 + final_page_cache_size_in_mb_tier_2"
   ]
  },
  {
   "cell_type": "code",
   "execution_count": 12,
   "metadata": {},
   "outputs": [],
   "source": [
    "############################\n",
    "# estimated outputs\n",
    "############################\n",
    "\n",
    "estimated_data_points_stored = total_points_in_the_database_tier_0 + total_points_in_the_database_tier_1 + total_points_in_the_database_tier_2\n",
    "estimated_points_per_metric = points_for_a_full_retention_metric_tier_0 + points_for_a_full_retention_metric_tier_1 + points_for_a_full_retention_metric_tier_2\n",
    "estimated_maximum_days = metric_retention_days_tier_2\n",
    "estimated_disk_storage_gb = (maximum_disk_size_mb_tier_0 + maximum_disk_size_mb_tier_1 + maximum_disk_size_mb_tier_2) / 1024\n",
    "estimated_ram_mb = total_ram_memory_mb_tier_0 + total_ram_memory_mb_tier_1 + total_ram_memory_mb_tier_2\n",
    "estimated_dbengine_tier_1_update_every_iterations = update_every_sec_tier_1 / update_every_sec_tier_0\n",
    "estimated_dbengine_tier_2_update_every_iterations = update_every_sec_tier_2 / update_every_sec_tier_1"
   ]
  },
  {
   "cell_type": "code",
   "execution_count": 13,
   "metadata": {},
   "outputs": [],
   "source": [
    "############################\n",
    "# outputs\n",
    "############################\n",
    "\n",
    "output_message = f'Khulnasoft will store an estimated **{round(estimated_data_points_stored):000,}** data points (**{round(estimated_points_per_metric):000,} points/metric**) '\n",
    "output_message += f'for a maximum of **{round(estimated_maximum_days):000,} days**, utilizing **{round(estimated_disk_storage_gb,2):000,} GB** of disk storage '\n",
    "output_message += f'and **{round(estimated_ram_mb):000,} MB** of RAM '\n",
    "output_message += f'for a maximum of **{round(metric_retention_days_tier_0):000,} days (T0)**, **{round(metric_retention_days_tier_1):000,} days (T1)**, **{round(metric_retention_days_tier_2):000,} days (T2)**.'\n",
    "\n",
    "output_khulnasoft_conf = f\"\"\"\n",
    "```ini\n",
    "# Enter the following in your agent's khulnasoft.conf\n",
    "[db]\n",
    "  mode = dbengine\n",
    "  storage tiers = 3\n",
    "  update every = {update_every_sec_tier_0}\n",
    "  dbengine multihost disk space MB = {maximum_disk_size_mb_tier_0}\n",
    "  dbengine page cache size MB = {page_cache_size_mb_tier_0}\n",
    "  dbengine tier 1 update every iterations = {round(estimated_dbengine_tier_1_update_every_iterations)}\n",
    "  dbengine tier 1 multihost disk space MB = {maximum_disk_size_mb_tier_1}\n",
    "  dbengine tier 1 page cache size MB = {page_cache_size_mb_tier_1}\n",
    "  dbengine tier 2 update every iterations = {round(estimated_dbengine_tier_2_update_every_iterations)}\n",
    "  dbengine tier 2 multihost disk space MB = {maximum_disk_size_mb_tier_2}\n",
    "  dbengine tier 2 page cache size MB = {page_cache_size_mb_tier_2}\n",
    "```\n",
    "\"\"\"\n",
    "\n",
    "final_message = output_message + '\\n' + output_khulnasoft_conf"
   ]
  },
  {
   "cell_type": "code",
   "execution_count": 14,
   "metadata": {},
   "outputs": [
    {
     "data": {
      "text/markdown": [
       "Khulnasoft will store an estimated **908,346,436** data points (**363,339 points/metric**) for a maximum of **747 days**, utilizing **1.56 GB** of disk storage and **267 MB** of RAM for a maximum of **4 days (T0)**, **25 days (T1)**, **747 days (T2)**.\n",
       "\n",
       "```ini\n",
       "# Enter the following in your agent's khulnasoft.conf\n",
       "[db]\n",
       "  mode = dbengine\n",
       "  storage tiers = 3\n",
       "  update every = 1\n",
       "  dbengine multihost disk space MB = 1024\n",
       "  dbengine page cache size MB = 64\n",
       "  dbengine tier 1 update every iterations = 60\n",
       "  dbengine tier 1 multihost disk space MB = 384\n",
       "  dbengine tier 1 page cache size MB = 36\n",
       "  dbengine tier 2 update every iterations = 60\n",
       "  dbengine tier 2 multihost disk space MB = 192\n",
       "  dbengine tier 2 page cache size MB = 36\n",
       "```\n"
      ],
      "text/plain": [
       "<IPython.core.display.Markdown object>"
      ]
     },
     "execution_count": 14,
     "metadata": {},
     "output_type": "execute_result"
    }
   ],
   "source": [
    "# message\n",
    "md(final_message)"
   ]
  }
 ],
 "metadata": {
  "kernelspec": {
   "display_name": "Python 3.10.6 64-bit",
   "language": "python",
   "name": "python3"
  },
  "language_info": {
   "codemirror_mode": {
    "name": "ipython",
    "version": 3
   },
   "file_extension": ".py",
   "mimetype": "text/x-python",
   "name": "python",
   "nbconvert_exporter": "python",
   "pygments_lexer": "ipython3",
   "version": "3.10.6"
  },
  "orig_nbformat": 4,
  "vscode": {
   "interpreter": {
    "hash": "369f2c481f4da34e4445cda3fffd2e751bd1c4d706f27375911949ba6bb62e1c"
   }
  }
 },
 "nbformat": 4,
 "nbformat_minor": 2
}
